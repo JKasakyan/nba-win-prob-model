{
 "cells": [
  {
   "cell_type": "code",
   "execution_count": 2,
   "metadata": {
    "collapsed": false
   },
   "outputs": [
    {
     "data": {
      "text/html": [
       "<style>.container { width:100% !important; }</style>"
      ],
      "text/plain": [
       "<IPython.core.display.HTML object>"
      ]
     },
     "metadata": {},
     "output_type": "display_data"
    }
   ],
   "source": [
    "import pandas as pd\n",
    "from IPython.core.display import display, HTML\n",
    "\n",
    "display(HTML(\"<style>.container { width:100% !important; }</style>\"))\n",
    "pd.set_option('display.max_columns', 50)"
   ]
  },
  {
   "cell_type": "code",
   "execution_count": 87,
   "metadata": {
    "collapsed": true
   },
   "outputs": [],
   "source": [
    "nba_1984_2018_initials = {\n",
    "    'Atlanta Hawks': 'ATL',\n",
    "    'Boston Celtics': 'BOS',\n",
    "    'Brooklyn Nets': 'BRK',\n",
    "    'Charlotte Hornets': 'CHH',\n",
    "    'Charlotte Bobcats': 'CHO',\n",
    "    'Chicago Bulls': 'CHI',\n",
    "    'Cleveland Cavaliers': 'CLE',\n",
    "    'Dallas Mavericks': 'DAL',\n",
    "    'Denver Nuggets': 'DEN',\n",
    "    'Detroit Pistons': 'DET',\n",
    "    'Golden State Warriors': 'GSW',\n",
    "    'Houston Rockets': 'HOU',\n",
    "    'Indiana Pacers': 'IND',\n",
    "    'Kansas City Kings': 'KCK',\n",
    "    'Los Angeles Clippers': 'LAC',\n",
    "    'Los Angeles Lakers': 'LAL',\n",
    "    'Memphis Grizzlies': 'MEM',\n",
    "    'Miami Heat': 'MIA',\n",
    "    'Milwaukee Bucks': 'MIL',\n",
    "    'Minnesota Timberwolves': 'MIN',\n",
    "    'New Orleans Hornets' : 'NOP',\n",
    "    'New Orleans/Oklahoma City Hornets': 'NOK',\n",
    "    'New Orleans Pelicans': 'NOP',\n",
    "    'New Jersey Nets': 'NJN',\n",
    "    'New York Knicks': 'NYK',\n",
    "    'Oklahoma City Thunder': 'OKC',\n",
    "    'Orlando Magic': 'ORL',\n",
    "    'Philadelphia 76ers': 'PHI',\n",
    "    'Phoenix Suns': 'PHO',\n",
    "    'Portland Trail Blazers': 'POR',\n",
    "    'Sacramento Kings': 'SAC',\n",
    "    'San Diego Clippers': 'SDC',\n",
    "    'San Antonio Spurs': 'SAS',\n",
    "    'Seattle SuperSonics': 'SEA',\n",
    "    'Toronto Raptors': 'TOR',\n",
    "    'Vancouver Grizzlies': 'VAN',\n",
    "    'Utah Jazz': 'UTA',\n",
    "    'Washington Bullets': 'WSB',\n",
    "    'Washington Wizards': 'WAS'\n",
    "}\n",
    "nba_1984_2018_initials_reversed = {v:k for k, v in nba_1984_2018_initials.items()}"
   ]
  },
  {
   "cell_type": "code",
   "execution_count": 16,
   "metadata": {
    "collapsed": true
   },
   "outputs": [],
   "source": [
    "boxscore_season_range_mask = lambda df, start_year, end_year:  (df[\"season\"] >= start_year) & (df[\"season\"] <= end_year)\n",
    "boxscore_date_range_mask = lambda df, start_date, end_date: (df[\"date\"] >= start_date) & (df[\"date\"] <= end_date)\n",
    "boxscore_team_mask = lambda df, team_initials: (df[\"team1\"] == team_initials) | (df[\"team2\"] == team_initials)\n",
    "boxscore_regular_season_mask = lambda df: pd.isnull(df[\"playoff\"])\n",
    "\n",
    "summary_season_range = lambda df, start_year, end_year: df.loc[start_year:end_year]\n",
    "summary_season_query = lambda df, years, teams, col_names: df.loc[(years, teams), col_names]\n",
    "summary_season_remove_league_average = lambda: df"
   ]
  },
  {
   "cell_type": "markdown",
   "metadata": {},
   "source": [
    "# Features for model"
   ]
  },
  {
   "cell_type": "markdown",
   "metadata": {},
   "source": [
    "Visualizations in the data exploration notebook show that the most important indicators of wins on a season level are net rating, SRS, and ELO rating. It's reasonable to hypothesize that those same metrics are indicators of win probability on a game by game basis. First model will attempt to predict single game home team win probability based solely on pre-game net rating, SRS, and ELO rating of home and away team. Initial net rating and SRS rating are set to their values at the end of the prior season for each team"
   ]
  },
  {
   "cell_type": "markdown",
   "metadata": {},
   "source": [
    "## Creating dataset"
   ]
  },
  {
   "cell_type": "markdown",
   "metadata": {},
   "source": [
    "### Desired\n",
    "\n",
    "| Name           |  Type         | Description                                                                        \n",
    "| -------------  |-------------  | ----------------------------------------------------------------------------------|\n",
    "| team1          | string        |   Home team initials                                                              |\n",
    "| team2          | string        |   Away team initials                                                              |\n",
    "| team1_SRS      | double        |   Pre-game SRS of home team                                                       |\n",
    "| team2_SRS      | double        |   Pre-game SRS of away team                                                       |     \n",
    "| team1_NetRtg   | double        |   Pre-game season average net rating of home team                                 |\n",
    "| team2_NetRtg   | double        |   Pre-game season average net rating of away team                                 |\n",
    "| team1_ELO      | double        |   Pre-game ELO rating of home team                                                |\n",
    "| team2_ELO      | double        |   Pre-game ELO rating of away team                                                |\n",
    "| result         | int           |   1 = home team win                                                               |"
   ]
  },
  {
   "cell_type": "code",
   "execution_count": 238,
   "metadata": {
    "collapsed": true
   },
   "outputs": [],
   "source": [
    "def margin_for_team(abbrev, margins):\n",
    "    '''\n",
    "    find the average margin of victory for a team over a period of time\n",
    "    \n",
    "    abbrev: string, 3 letter initial of NBA team\n",
    "    margins: dict, key is team initials and value is list containing the margin of victory for each game\n",
    "    \n",
    "    returns average margin of victory for given team over time period encompassed by margins.\n",
    "    '''\n",
    "    return sum(margins[abbrev]) / len(margins[abbrev])\n",
    "\n",
    "def sos_for_team(abbrev, schedule, margins):\n",
    "    '''\n",
    "    find the strength of schedule for a team over a period of time, where sos is defined as average margin of victory of opponents faced so far, weighted by games played.\n",
    "    \n",
    "    abbrev: string, 3 letter initial of NBA team\n",
    "    margins: dict, key is team initials and value is list containing the margin of victory for each game\n",
    "    schedule: dict, key is team initials, value is dictionary where key is opponent initials, and value is # of games played vs. opponent during period in question\n",
    "    \n",
    "    returns strength of schedule for given team over time period encompassed by margins and schedule. \n",
    "    '''\n",
    "    opp_movs = []\n",
    "    for abbrev, gp in schedule[abbrev].items():\n",
    "        opp_movs += [margin_for_team(abbrev, margins)] * gp\n",
    "    return sum(opp_movs) / len(opp_movs)\n",
    "\n",
    "def is_first_game_of_season(game, abbrev, boxscores_df):\n",
    "    '''\n",
    "    determine whether given game is the first game of the season for the given team\n",
    "    \n",
    "    game: pd.Series, see nba_boxscores_1984_2018.csv for format (game is single row)\n",
    "    abbrev: string, 3 letter initial of NBA team\n",
    "    boxscores_df: pd.DataFrame, see nba_boxscores_1984_2018.csv for format\n",
    "    \n",
    "    returns boolean\n",
    "    '''\n",
    "    first_game_indx = boxscores_df[boxscore_team_mask(boxscores_df, abbrev) & boxscore_season_range_mask(boxscores_df, game[\"season\"], game[\"season\"])].head(1).index[0]\n",
    "    return game.name == first_game_indx\n",
    "\n",
    "def regular_season_metrics(abbrev, season, season_summaries_df, rating_cols):\n",
    "    '''\n",
    "    determine end of regular season metrics for the given team and given season\n",
    "    \n",
    "    abbrev: string, 3 letter initial of NBA team\n",
    "    season: int, season to get metrics for (2017 = 2016-17)\n",
    "    season_summaries_df: pd.DataFrame, see nba_season_summaries_1984_2018.csv for format\n",
    "    rating_cols: list of metrics desired, see nba_season_summaries_1984_2018.csv columns for possible values\n",
    "    \n",
    "    returns pd.Series with requested metrics\n",
    "    '''\n",
    "    team_name = \"Charlotte Hornets\" if abbrev == \"CHO\" and season > 2014 else nba_1984_2018_initials_reversed[abbrev]\n",
    "    return summary_season_query(season_summaries_df, season, team_name, rating_cols)\n",
    "\n",
    "def abbrev_dict_for_season(season, season_summaries_df):\n",
    "    '''\n",
    "    generate a lookup table to map boxscore teams (3 letter initials) to season summary teams (full names)\n",
    "    \n",
    "    season: int, (2017 = 2016-17 NBA season)\n",
    "    season_summaries_df: pd.DataFrame, see nba_season_summaries_1984_2018.csv for format\n",
    "    '''\n",
    "    team_names = season_summaries_df.loc[season].index.tolist()\n",
    "    team_names.remove(\"League Average\")\n",
    "    d = {k:v for k, v in nba_1984_2018_initials.items() if k in team_names}\n",
    "     # handle edge case of boxscores using \"CHO\" for both Charlotte Bobcats and post 2014 Charlotte Hornets \n",
    "    if season > 2014:\n",
    "        d[\"Charlotte Hornets\"] = \"CHO\"\n",
    "    return d"
   ]
  },
  {
   "cell_type": "code",
   "execution_count": 253,
   "metadata": {
    "collapsed": true
   },
   "outputs": [],
   "source": [
    "start_year = 1984\n",
    "end_year = 2018\n",
    "df_season_summaries = pd.read_csv(\"../Data/nba_season_summaries_{}_{}.csv\".format(start_year, end_year), index_col=[0, 1])\n",
    "# For MultiIndex slicing support\n",
    "df_season_summaries.sort_index(inplace=True) \n",
    "df_boxscores = pd.read_csv(\"../Data/nba_boxscores_{}_{}.csv\".format(start_year, end_year), index_col=0, parse_dates=[1], infer_datetime_format=True)"
   ]
  },
  {
   "cell_type": "code",
   "execution_count": 275,
   "metadata": {
    "collapsed": false
   },
   "outputs": [
    {
     "data": {
      "text/plain": [
       "-2.95"
      ]
     },
     "execution_count": 275,
     "metadata": {},
     "output_type": "execute_result"
    }
   ],
   "source": [
    "s = last_season_metrics[\"SRS\"]\n",
    "s.quantile(0.25)"
   ]
  },
  {
   "cell_type": "code",
   "execution_count": 277,
   "metadata": {
    "collapsed": false
   },
   "outputs": [
    {
     "name": "stdout",
     "output_type": "stream",
     "text": [
      "First game for DAL\n",
      "First game for SAC\n",
      "First game for LAL\n",
      "First game for DEN\n",
      "First game for DET\n",
      "First game for HOU\n",
      "First game for SAS\n",
      "First game for NJN\n",
      "First game for MIA\n",
      "First game for CLE\n",
      "First game for IND\n",
      "First game for NOP\n",
      "First game for LAC\n",
      "First game for SEA\n",
      "First game for GSW\n",
      "First game for POR\n",
      "First game for ORL\n",
      "First game for MIL\n",
      "First game for MIN\n",
      "First game for NYK\n",
      "First game for BOS\n",
      "First game for PHI\n",
      "First game for PHO\n",
      "First game for ATL\n",
      "First game for MEM\n",
      "First game for WAS\n",
      "First game for TOR\n",
      "First game for UTA\n",
      "First game for CHO\n",
      "CHO\n",
      "First game for CHI\n"
     ]
    }
   ],
   "source": [
    "season = 2005\n",
    "\n",
    "last_season_team_names = df_season_summaries.loc[season-1].index.tolist()\n",
    "last_season_team_names.remove(\"League Average\")\n",
    "last_season_abbrev_dict = {v:k for k, v in abbrev_dict_for_season(season-1, df_season_summaries).items()}\n",
    "last_season_metrics = summary_season_query(df_season_summaries, season-1, last_season_team_names, [\"SRS\", \"NetRtg\"]).loc[season-1]\n",
    "\n",
    "this_season_abbrev_dict = {v:k for k, v in abbrev_dict_for_season(season, df_season_summaries).items()}\n",
    "\n",
    "# Used for computing SRS and avg. NetRtg during season\n",
    "margins = {}\n",
    "schedule = {}\n",
    "net_ratings = {}\n",
    "for abbrev in this_season_abbrev_dict.keys():\n",
    "    margins[abbrev] = []\n",
    "    schedule[abbrev] = {}\n",
    "    net_ratings[abbrev] = []\n",
    "columns = [\n",
    "    \"team1\", \"team2\", \"team1_SRS\", \"team2_SRS\", \"team1_NetRtg\", \"team2_NetRtg\", \"team1_ELO\", \"team2_ELO\", \"result\"\n",
    "]\n",
    "data = {c:[] for c in columns}\n",
    "\n",
    "for _, game in df_boxscores[boxscore_season_range_mask(df_boxscores, season, season)].iterrows():\n",
    "    team1 = game[\"team1\"]\n",
    "    team1_score = game[\"score1\"]\n",
    "    team2 = game[\"team2\"]\n",
    "    team2_score = game[\"score2\"]\n",
    "    # record teams\n",
    "    data[\"team1\"] = team1\n",
    "    data[\"team2\"] = team2\n",
    "    # determine pre-game SRS and NetRtg\n",
    "    for t, key_prefix in zip([team1, team2], [\"team1\", \"team2\"]):\n",
    "        if is_first_game_of_season(game, t, df_boxscores):\n",
    "            # first game of season for team, use last season's SRS and NetRtg values\n",
    "            try:\n",
    "                srs = last_season_metrics.loc[last_season_abbrev_dict[t]][\"SRS\"]\n",
    "                net = last_season_metrics.loc[last_season_abbrev_dict[t]][\"NetRtg\"]\n",
    "                data[\"{}_SRS\".format(key_prefix)].append(srs)\n",
    "                data[\"{}_NetRtg\".format(key_prefix)].append(net)\n",
    "                net_ratings[t].append(net)\n",
    "            except KeyError:\n",
    "                # first season of expansion franchise. Set both to lower quartile value of previous season\n",
    "                srs = last_season_metrics[\"SRS\"].quantile(0.25)\n",
    "                net = last_season_metrics[\"NetRtg\"].quantile(0.25)\n",
    "                data[\"{}_SRS\".format(key_prefix)].append(srs)\n",
    "                data[\"{}_NetRtg\".format(key_prefix)].append(net)\n",
    "                net_ratings[t].append(net)\n",
    "        else:\n",
    "            # compute pre-game SRS, avg. NetRtg\n",
    "            data[\"{}_NetRtg\".format(key_prefix)] = sum(net_ratings[t]) / len(net_ratings[t])\n",
    "            data[\"{}_SRS\".format(key_prefix)] = margin_for_team(t, margins) + sos_for_team(t, schedule, margins)\n",
    "        # determine pre-game ELO\n",
    "        data[\"{}_ELO\".format(key_prefix)] = game[\"elo1_pre\"] if t == team1 else game[\"elo2_pre\"]\n",
    "    # determine result of game\n",
    "    data[\"result\"] = 1 if mov_team1 > 0 else 0\n",
    "    # update margins\n",
    "    mov_team1 = team1_score - team2_score\n",
    "    mov_team2 = -mov_team1\n",
    "    margins[team1].append(mov_team1)\n",
    "    margins[team2].append(mov_team2)\n",
    "    # update schedule\n",
    "    gp = schedule[team1].get(team2, None)\n",
    "    if gp is None:\n",
    "        schedule[team1][team2] = 1\n",
    "        schedule[team2][team1] = 1\n",
    "    else:\n",
    "        schedule[team1][team2] = gp + 1\n",
    "        schedule[team2][team1] = gp + 1"
   ]
  }
 ],
 "metadata": {
  "anaconda-cloud": {},
  "kernelspec": {
   "display_name": "Python [conda env:nba-win-prob]",
   "language": "python",
   "name": "conda-env-nba-win-prob-py"
  },
  "language_info": {
   "codemirror_mode": {
    "name": "ipython",
    "version": 3
   },
   "file_extension": ".py",
   "mimetype": "text/x-python",
   "name": "python",
   "nbconvert_exporter": "python",
   "pygments_lexer": "ipython3",
   "version": "3.6.3"
  }
 },
 "nbformat": 4,
 "nbformat_minor": 1
}
