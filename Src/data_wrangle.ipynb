{
 "cells": [
  {
   "cell_type": "code",
   "execution_count": null,
   "metadata": {
    "collapsed": true
   },
   "outputs": [],
   "source": [
    "import pandas as pd\n",
    "import datetime\n",
    "from bs4 import BeautifulSoup\n",
    "import requests"
   ]
  },
  {
   "cell_type": "markdown",
   "metadata": {},
   "source": [
    "## Import historical game by game data from FiveThirtyEight GitHub Repo\n",
    "\n",
    "[FiveThirtyEight Data Repo](https://github.com/fivethirtyeight/data)"
   ]
  },
  {
   "cell_type": "code",
   "execution_count": null,
   "metadata": {
    "collapsed": false
   },
   "outputs": [],
   "source": [
    "url = \"https://projects.fivethirtyeight.com/nba-model/nba_elo.csv\"\n",
    "df = pd.read_csv(url).astype({'date': 'datetime64[ns]'})\n",
    "df.head()"
   ]
  },
  {
   "cell_type": "markdown",
   "metadata": {},
   "source": [
    "### Analyze fields\n",
    "\n",
    "See [FiveThirtyEight NBA Predictions](https://projects.fivethirtyeight.com/2018-nba-predictions/) for explanation of Elo and CARM-Elo\n",
    "\n",
    "| Name           |  Type         | Description                                                                        \n",
    "| -------------  |-------------  | ----------------------------------------------------------------------------------|\n",
    "| date           | datetime      |   Game date                                                                       |                      \n",
    "| season         | int           |   End year of season                                                              |\n",
    "| neutral        | bool          |   1=neutral home court                                                            |\n",
    "| playoff        | string        |   1946-2015: t = playoffs. Starting in 2016: q=conference quarterfinals, s=conference semifinals, c=conference final,f=finals                                                                 |\n",
    "| team1          | string        |   Home team initials                                                              |\n",
    "| team2          | string        |   Away team initials                                                              |\n",
    "| elo1_pre       | double        |   Home team Elo before game                                                       |\n",
    "| elo2_pre       | double        |   Away team Elo before game                                                       |\n",
    "| elo_prob1      | double        |   Win probability based on elo1_pre                                               |\n",
    "| elo_prob2      | double        |   Win probability based on elo2_pre                                               |\n",
    "| elo1_post      | double        |   Home team Elo after game                                                        |\n",
    "| elo2_post      | double        |   Away team Elo after game                                                        |\n",
    "| carmelo1_pre\\* | double        |   Home team CARM-Elo before game                                                  |\n",
    "| carmelo2_pre\\* | double        |   Away team CARM-Elo before game                                                  |\n",
    "| carmelo1_post\\*| double        |   Home team CARM-Elo after game                                                   |\n",
    "| carmelo2_post\\*| double        |   Away team CARM-Elo after game                                                   |\n",
    "| carmelo_prob1\\*| double        |   Win probability based on carmelo1_pre                                           |\n",
    "| carmelo_prob2\\*| double        |   Win probability based on carmelo2_pre                                           |\n",
    "| score1         | int           |   Home team final score                                                           |\n",
    "| score2         | int           |   Away team final score                                                           |\n",
    "\n",
    "\\* data only available from 2015-2018"
   ]
  },
  {
   "cell_type": "markdown",
   "metadata": {},
   "source": [
    "#### Determine CARM-Elo starting point"
   ]
  },
  {
   "cell_type": "code",
   "execution_count": null,
   "metadata": {
    "collapsed": false,
    "scrolled": false
   },
   "outputs": [],
   "source": [
    "df_carm_elo = df[[\"date\", \"season\", \"team1\", \"team2\", \"carmelo1_pre\", \"carmelo2_pre\", \"carmelo1_post\", \"carmelo2_post\"]]\n",
    "df_carm_elo[~(pd.isnull(df_carm_elo[\"carmelo1_pre\"]))].sort_values(\"date\").head()"
   ]
  },
  {
   "cell_type": "markdown",
   "metadata": {},
   "source": [
    "#### CARM-Elo data available starting with 2015-2016 season"
   ]
  },
  {
   "cell_type": "markdown",
   "metadata": {
    "collapsed": true
   },
   "source": [
    "## Import historical season data from basketball-reference\n",
    "\n",
    "[Basketball-Reference Miscellaneous season stats](https://www.basketball-reference.com/leagues/NBA_2018.html#misc_stats::none)"
   ]
  },
  {
   "cell_type": "code",
   "execution_count": null,
   "metadata": {
    "collapsed": true
   },
   "outputs": [],
   "source": [
    "def get_season_data(end_year):\n",
    "    ''' \n",
    "    get cumulative statistics for season specified by end_year\n",
    "    \n",
    "    end_year: int, year to query (ex: 2018 queries 2017-2018 season)\n",
    "    \n",
    "    returns Pandas dataframe w/ basketball-reference.com's miscellaneous stats table for season specified by end_year\n",
    "    '''\n",
    "    from bs4 import Comment\n",
    "    html = \"https://www.basketball-reference.com/leagues/NBA_{}.html\".format(end_year)\n",
    "    result = requests.get(html)\n",
    "    soup = BeautifulSoup(result.content, \"html.parser\")\n",
    "    # html tree is strange...table is wrapped inside a comment\n",
    "    table = [c for c in (soup.find('div', id=\"all_misc_stats\")).children if type(c) == Comment][0]\n",
    "    # parse table with pandas\n",
    "    df = pd.read_html(table, header=1)[0]\n",
    "    df[\"Season\"] = end_year\n",
    "    return df"
   ]
  },
  {
   "cell_type": "markdown",
   "metadata": {},
   "source": [
    "#### Option 1) Download latest data"
   ]
  },
  {
   "cell_type": "code",
   "execution_count": null,
   "metadata": {
    "collapsed": true
   },
   "outputs": [],
   "source": [
    "start_year = 1951\n",
    "end_year = 2018\n",
    "dfs_1951_2018 = [get_season_data(i) for i in range(1951, 2019)]\n",
    "df_1951_2018 = pd.concat(dfs_1951_2018)\n",
    "df_1951_2018[\"Team\"] =  df_1951_2018[\"Team\"].map(lambda s: s.replace(\"*\", \"\"))\n",
    "df_1951_2018 = df_1951_2018.set_index([\"Season\", \"Team\"])\n",
    "pd.set_option('display.max_columns', 30)\n",
    "df_1951_2018.head()\n",
    "# Save\n",
    "# df_1951_2018.to_csv(\"../Data/nba_season_data.csv\")"
   ]
  },
  {
   "cell_type": "markdown",
   "metadata": {},
   "source": [
    "#### Option 2) Use saved offline file"
   ]
  },
  {
   "cell_type": "code",
   "execution_count": null,
   "metadata": {
    "collapsed": false
   },
   "outputs": [],
   "source": [
    "df_1951_2018 = pd.read_csv(\"../Data/nba_season_data.csv\")\n",
    "df_1951_2018[\"Team\"] =  df_1951_2018[\"Team\"].map(lambda s: s.replace(\"*\", \"\"))\n",
    "df_1951_2018 = df_1951_2018.set_index([\"Season\", \"Team\"])\n",
    "pd.set_option('display.max_columns', 30)\n",
    "df_1951_2018.head()"
   ]
  },
  {
   "cell_type": "markdown",
   "metadata": {},
   "source": [
    "### Analyze fields\n",
    "\n",
    "| Name      |  Type  | Description                                                                                   |\n",
    "| --------- |--------| --------------------------------------------------------------------------------------------- |\n",
    "| Rk        | double |   Rank (used to index for sorting within webpage)                                             |\n",
    "| Age       | double |   Age of Player at the start of February 1st of that season.                                  |\n",
    "| W         | double |   Wins                                                                                        |\n",
    "| L         | double |   Losses                                                                                      |\n",
    "| PW        | double |   Pythagorean wins, i.e., expected wins based on points scored and allowed                    |\n",
    "| PL        | double |   Pythagorean losses, i.e., expected losses based on points scored and allowed                |\n",
    "| MOV       | double |   Margin of Victory                                                                           |\n",
    "| SOS       | double |   Strength of Schedule; a rating of strength of schedule. The rating is denominated in points above/below average, where zero is average.                                                                          |\n",
    "| SRS       | double |   Simple Rating System; a team rating that takes into account average point differential and strength of schedule. The rating is denominated in points above/below average, where zero is average.                |\n",
    "| ORtg      | double |   An estimate of points produced (players) or scored (teams) per 100 possessions              |  \n",
    "| DRtg      | double |   An estimate of points allowed per 100 possessions                                           |\n",
    "| Pace      | double |   An estimate of possessions per 48 minutes                                                   |\n",
    "| FTr       | double |   Number of FT Attempts Per FG Attempt                                                        |\n",
    "| 3PAr\\*\\*  | double |   Percentage of FG Attempts from 3-Point Range                                                |\n",
    "| TS%       | double |   A measure of shooting efficiency that takes into account 2-point field goals, 3-point field goals, and free throws.                                                                                              |\n",
    "| eFG%      | double |   Adjusts for the fact that a 3-point field goal is worth one more point than a 2-point field goal.                                                                                                                |\n",
    "| TOV%\\*    | double |   An estimate of turnovers committed per 100 plays.                                           |\n",
    "| ORB%\\*    | int    |   An estimate of the percentage of available offensive rebounds a team grabbed.               |\n",
    "| FT/FGA    | int    |   Free Throws Per Field Goal Attempt                                                          |\n",
    "| eFG%.1    | double |    Opponent Effective Field Goal Percentage                                                   |\n",
    "| TOV%.1\\*  | double |   Opponent Turnover Percentage                                                                |\n",
    "| DRB%\\*    | int    |   An estimate of the percentage of available defensive rebounds a team grabbed.               |\n",
    "| FT/FGA.1\\*| int    |   Opponent Free Throws Per Field Goal Attempt                                                 |    \n",
    "| Arena     | string |   Home Arena                                                                                  |\n",
    "| Attend.   | double |   Cumulative home attendance                                                                  |\n",
    "| Attend./G | double |   Attendance per home game at the team's primary arena                                        |\n",
    "\n",
    "\\* data only available from 1974-2018\n",
    "\n",
    "\\*\\* data only available from 1980-2018\n",
    "\n",
    "NOTE: No data available for 1954-1955 Baltimore Bullets"
   ]
  },
  {
   "cell_type": "markdown",
   "metadata": {},
   "source": [
    "## Import additional historical game by game data from basketball-reference\n",
    "\n",
    "Starting from the 1983-1984 season, basketball-reference.com has game by game advanced statistics such as ORtg, DRtg, and eFG%\n",
    "\n",
    "[Example boxscore](https://www.basketball-reference.com/boxscores/201803050CHI.html)"
   ]
  },
  {
   "cell_type": "code",
   "execution_count": null,
   "metadata": {
    "collapsed": true
   },
   "outputs": [],
   "source": [
    "def boxscore_links_for_date(date):\n",
    "    '''\n",
    "    get list of basketball-reference links to boxscores for games on given date\n",
    "    \n",
    "    date: datetime.datetime object with year, month, and day specified\n",
    "    \n",
    "    returns list of urls to basketball-reference single game boxscores for given date\n",
    "    '''\n",
    "    link = \"https://www.basketball-reference.com/boxscores/?month={}&day={}&year={}\".format(date.month, date.day, date.year)\n",
    "    result = requests.get(link)\n",
    "    soup = BeautifulSoup(result.content, \"html.parser\")\n",
    "    return [\"http://www.basketball-reference.com\" + game.find(\"a\").get(\"href\") for game in soup.find_all(\"td\", {\"class\": \"right gamelink\"})]"
   ]
  },
  {
   "cell_type": "code",
   "execution_count": null,
   "metadata": {
    "collapsed": false
   },
   "outputs": [],
   "source": [
    "def boxscore_dict_for_link(link):\n",
    "    '''\n",
    "    advanced box score stats as dictionary from basketball-reference boxscore link\n",
    "    \n",
    "    link: string, link to single game basketball-reference boxscore\n",
    "    \n",
    "    returns dictionary with advanced stats for home (team1) and away (team2) teams for boxscore linked\n",
    "    NOTE: basketball-reference only supports single game advanced stats starting from 1983-1984 NBA season\n",
    "    '''\n",
    "    result = requests.get(link)\n",
    "    soup = BeautifulSoup(result.content, \"html.parser\")\n",
    "    from bs4 import Comment\n",
    "    assert soup.find(\"div\", id=\"all_four_factors\") != None, \"Advanced box score metrics only available for dates with at least 1 NBA game starting from 1983-1984 season\"\n",
    "    for c in soup.find(\"div\", id=\"all_four_factors\").children:\n",
    "        if type(c) == Comment:\n",
    "            s_ind = c.index(\"<table\")\n",
    "            e_ind = c.index(\"</table>\")\n",
    "            table_html = c[s_ind:e_ind+8]\n",
    "            break\n",
    "    df = pd.read_html(table_html, header=1, index_col=0)[0]\n",
    "    df[\"DRtg\"] = df[\"ORtg\"].values[::-1]\n",
    "    df[\"NetRtg\"] = df[\"ORtg\"] - df[\"DRtg\"]\n",
    "    d = {}\n",
    "    for i, team_name in enumerate(df.index):\n",
    "        prefix = \"team2_\" if i == 0 else \"team1_\"\n",
    "        for col in df.columns:\n",
    "            d[prefix+col] = df.loc[team_name, col]\n",
    "    return d"
   ]
  },
  {
   "cell_type": "markdown",
   "metadata": {},
   "source": [
    "#### Crawling through nba_elo data to find advanced box score metrics for all games since 1983-1984 NBA season"
   ]
  },
  {
   "cell_type": "code",
   "execution_count": null,
   "metadata": {
    "collapsed": false
   },
   "outputs": [],
   "source": [
    "# Basketball-reference.com has advanced metrics for single games starting w/ 1983-1984 NBA season\n",
    "season_start_dates = []\n",
    "season_end_dates = []\n",
    "for i in range(1985, 2019):\n",
    "    season_df = df[(df[\"season\"] == i) & (~pd.isnull(df[\"score1\"]))]\n",
    "    season_start_dates.append(season_df.head(1)[\"date\"])\n",
    "    season_end_dates.append(season_df.tail(1)[\"date\"])\n",
    "# Query basketball reference game by game, and save results for each year\n",
    "for season_start_date, season_end_date in zip(season_start_dates, season_end_dates):\n",
    "    df_slice = df[(df[\"date\"] >= season_start_date) & (df[\"date\"] <= season_end_date)].copy()\n",
    "    current_date = season_start_date\n",
    "    boxscores_for_date = []\n",
    "    boxscores = boxscore_links_for_date(current_date)\n",
    "    data = []\n",
    "    for _, row in df_slice.iterrows():\n",
    "        print(\"{} vs. {} on {}\".format(row[\"team1\"], row[\"team2\"], row[\"date\"]))\n",
    "        if current_date != row[\"date\"]:\n",
    "            # get new boxscores for date\n",
    "            print(\"New day ({}), getting boxscores\".format(row[\"date\"]))\n",
    "            boxscores = boxscore_links_for_date(row[\"date\"])\n",
    "            current_date = row[\"date\"]\n",
    "        home_team = row[\"team1\"]\n",
    "        boxscore_for_game = list(filter(lambda link: home_team in link, boxscores))[0]\n",
    "        d = boxscore_dict_for_link(boxscore_for_game)\n",
    "        for key, val in d.items():\n",
    "            row[key] = val\n",
    "        data.append(row)\n",
    "    # save data for year\n",
    "    print(\"Saving for season from {} to {}\".format(season_start_date, season_end_date))\n",
    "    pd.DataFrame(data).to_csv(\"nba_game_data_{}-{}-{}_to_{}-{}-{}.csv\".format(season_start_date.year, season_start_date.month, season_start_date.day, season_end_date.year, season_end_date.month, season_end_date.day))"
   ]
  }
 ],
 "metadata": {
  "anaconda-cloud": {},
  "kernelspec": {
   "display_name": "Python [conda env:nba-win-prob]",
   "language": "python",
   "name": "conda-env-nba-win-prob-py"
  },
  "language_info": {
   "codemirror_mode": {
    "name": "ipython",
    "version": 3
   },
   "file_extension": ".py",
   "mimetype": "text/x-python",
   "name": "python",
   "nbconvert_exporter": "python",
   "pygments_lexer": "ipython3",
   "version": "3.6.3"
  }
 },
 "nbformat": 4,
 "nbformat_minor": 1
}
